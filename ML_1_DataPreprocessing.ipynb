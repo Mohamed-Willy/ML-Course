{
  "nbformat": 4,
  "nbformat_minor": 0,
  "metadata": {
    "colab": {
      "provenance": [],
      "authorship_tag": "ABX9TyMW66bmACCV9pipz5IDtxBV",
      "include_colab_link": true
    },
    "kernelspec": {
      "name": "ir",
      "display_name": "R"
    },
    "language_info": {
      "name": "R"
    }
  },
  "cells": [
    {
      "cell_type": "markdown",
      "metadata": {
        "id": "view-in-github",
        "colab_type": "text"
      },
      "source": [
        "<a href=\"https://colab.research.google.com/github/Mohamed-Willy/ML-Course/blob/R/ML_1_DataPreprocessing.ipynb\" target=\"_parent\"><img src=\"https://colab.research.google.com/assets/colab-badge.svg\" alt=\"Open In Colab\"/></a>"
      ]
    },
    {
      "cell_type": "markdown",
      "source": [
        "\n",
        "# **Importing data set**\n",
        "\n"
      ],
      "metadata": {
        "id": "rSGkE9bzPZj0"
      }
    },
    {
      "cell_type": "code",
      "source": [
        "# Data Preprocessing Template\n",
        "\n",
        "# Importing the dataset\n",
        "dataset = read.csv('/content/Data.csv')\n",
        "\n",
        "#Showing data\n",
        "dataset"
      ],
      "metadata": {
        "colab": {
          "base_uri": "https://localhost:8080/",
          "height": 412
        },
        "id": "Sj_gyXUg7M35",
        "outputId": "f5df5621-fa35-4d3f-ba26-c0112b313730"
      },
      "execution_count": null,
      "outputs": [
        {
          "output_type": "display_data",
          "data": {
            "text/html": [
              "<table class=\"dataframe\">\n",
              "<caption>A data.frame: 10 × 4</caption>\n",
              "<thead>\n",
              "\t<tr><th scope=col>Country</th><th scope=col>Age</th><th scope=col>Salary</th><th scope=col>Purchased</th></tr>\n",
              "\t<tr><th scope=col>&lt;chr&gt;</th><th scope=col>&lt;int&gt;</th><th scope=col>&lt;int&gt;</th><th scope=col>&lt;chr&gt;</th></tr>\n",
              "</thead>\n",
              "<tbody>\n",
              "\t<tr><td>France </td><td>44</td><td>72000</td><td>No </td></tr>\n",
              "\t<tr><td>Spain  </td><td>27</td><td>48000</td><td>Yes</td></tr>\n",
              "\t<tr><td>Germany</td><td>30</td><td>54000</td><td>No </td></tr>\n",
              "\t<tr><td>Spain  </td><td>38</td><td>61000</td><td>No </td></tr>\n",
              "\t<tr><td>Germany</td><td>40</td><td>   NA</td><td>Yes</td></tr>\n",
              "\t<tr><td>France </td><td>35</td><td>58000</td><td>Yes</td></tr>\n",
              "\t<tr><td>Spain  </td><td>NA</td><td>52000</td><td>No </td></tr>\n",
              "\t<tr><td>France </td><td>48</td><td>79000</td><td>Yes</td></tr>\n",
              "\t<tr><td>Germany</td><td>50</td><td>83000</td><td>No </td></tr>\n",
              "\t<tr><td>France </td><td>37</td><td>67000</td><td>Yes</td></tr>\n",
              "</tbody>\n",
              "</table>\n"
            ],
            "text/markdown": "\nA data.frame: 10 × 4\n\n| Country &lt;chr&gt; | Age &lt;int&gt; | Salary &lt;int&gt; | Purchased &lt;chr&gt; |\n|---|---|---|---|\n| France  | 44 | 72000 | No  |\n| Spain   | 27 | 48000 | Yes |\n| Germany | 30 | 54000 | No  |\n| Spain   | 38 | 61000 | No  |\n| Germany | 40 |    NA | Yes |\n| France  | 35 | 58000 | Yes |\n| Spain   | NA | 52000 | No  |\n| France  | 48 | 79000 | Yes |\n| Germany | 50 | 83000 | No  |\n| France  | 37 | 67000 | Yes |\n\n",
            "text/latex": "A data.frame: 10 × 4\n\\begin{tabular}{llll}\n Country & Age & Salary & Purchased\\\\\n <chr> & <int> & <int> & <chr>\\\\\n\\hline\n\t France  & 44 & 72000 & No \\\\\n\t Spain   & 27 & 48000 & Yes\\\\\n\t Germany & 30 & 54000 & No \\\\\n\t Spain   & 38 & 61000 & No \\\\\n\t Germany & 40 &    NA & Yes\\\\\n\t France  & 35 & 58000 & Yes\\\\\n\t Spain   & NA & 52000 & No \\\\\n\t France  & 48 & 79000 & Yes\\\\\n\t Germany & 50 & 83000 & No \\\\\n\t France  & 37 & 67000 & Yes\\\\\n\\end{tabular}\n",
            "text/plain": [
              "   Country Age Salary Purchased\n",
              "1  France  44  72000  No       \n",
              "2  Spain   27  48000  Yes      \n",
              "3  Germany 30  54000  No       \n",
              "4  Spain   38  61000  No       \n",
              "5  Germany 40     NA  Yes      \n",
              "6  France  35  58000  Yes      \n",
              "7  Spain   NA  52000  No       \n",
              "8  France  48  79000  Yes      \n",
              "9  Germany 50  83000  No       \n",
              "10 France  37  67000  Yes      "
            ]
          },
          "metadata": {}
        }
      ]
    },
    {
      "cell_type": "markdown",
      "source": [
        "#**Missing data**"
      ],
      "metadata": {
        "id": "frGK8rbxQSwY"
      }
    },
    {
      "cell_type": "code",
      "source": [
        "#is.na() is used to deal with missing values in the dataset or data frame\n",
        "\n",
        "#to remove NA values from the vector use na. rm() or is.na() functions\n",
        "\n",
        "#'''''''''''''''''\n",
        "#  strategy in missing data:\n",
        "#    ignore row\n",
        "#    mean\n",
        "#''''''''''''''''''\n",
        "\n",
        "dataset$Age = ifelse(is.na(dataset$Age),\n",
        "                     ave(dataset$Age, FUN = function(x) mean(x,na.rm=TRUE)),\n",
        "                     dataset$Age)\n",
        "\n",
        "dataset$Salary = ifelse(is.na(dataset$Salary),\n",
        "                        ave(dataset$Salary, FUN = function(x) mean(x,na.rm=TRUE)),\n",
        "                        dataset$Salary)\n",
        "dataset"
      ],
      "metadata": {
        "colab": {
          "base_uri": "https://localhost:8080/",
          "height": 412
        },
        "id": "gZr-UB2MQYgl",
        "outputId": "18add16f-cd88-424b-91de-08ceeadfd3cd"
      },
      "execution_count": null,
      "outputs": [
        {
          "output_type": "display_data",
          "data": {
            "text/html": [
              "<table class=\"dataframe\">\n",
              "<caption>A data.frame: 10 × 4</caption>\n",
              "<thead>\n",
              "\t<tr><th scope=col>Country</th><th scope=col>Age</th><th scope=col>Salary</th><th scope=col>Purchased</th></tr>\n",
              "\t<tr><th scope=col>&lt;chr&gt;</th><th scope=col>&lt;dbl&gt;</th><th scope=col>&lt;dbl&gt;</th><th scope=col>&lt;chr&gt;</th></tr>\n",
              "</thead>\n",
              "<tbody>\n",
              "\t<tr><td>France </td><td>44.00000</td><td>72000.00</td><td>No </td></tr>\n",
              "\t<tr><td>Spain  </td><td>27.00000</td><td>48000.00</td><td>Yes</td></tr>\n",
              "\t<tr><td>Germany</td><td>30.00000</td><td>54000.00</td><td>No </td></tr>\n",
              "\t<tr><td>Spain  </td><td>38.00000</td><td>61000.00</td><td>No </td></tr>\n",
              "\t<tr><td>Germany</td><td>40.00000</td><td>63777.78</td><td>Yes</td></tr>\n",
              "\t<tr><td>France </td><td>35.00000</td><td>58000.00</td><td>Yes</td></tr>\n",
              "\t<tr><td>Spain  </td><td>38.77778</td><td>52000.00</td><td>No </td></tr>\n",
              "\t<tr><td>France </td><td>48.00000</td><td>79000.00</td><td>Yes</td></tr>\n",
              "\t<tr><td>Germany</td><td>50.00000</td><td>83000.00</td><td>No </td></tr>\n",
              "\t<tr><td>France </td><td>37.00000</td><td>67000.00</td><td>Yes</td></tr>\n",
              "</tbody>\n",
              "</table>\n"
            ],
            "text/markdown": "\nA data.frame: 10 × 4\n\n| Country &lt;chr&gt; | Age &lt;dbl&gt; | Salary &lt;dbl&gt; | Purchased &lt;chr&gt; |\n|---|---|---|---|\n| France  | 44.00000 | 72000.00 | No  |\n| Spain   | 27.00000 | 48000.00 | Yes |\n| Germany | 30.00000 | 54000.00 | No  |\n| Spain   | 38.00000 | 61000.00 | No  |\n| Germany | 40.00000 | 63777.78 | Yes |\n| France  | 35.00000 | 58000.00 | Yes |\n| Spain   | 38.77778 | 52000.00 | No  |\n| France  | 48.00000 | 79000.00 | Yes |\n| Germany | 50.00000 | 83000.00 | No  |\n| France  | 37.00000 | 67000.00 | Yes |\n\n",
            "text/latex": "A data.frame: 10 × 4\n\\begin{tabular}{llll}\n Country & Age & Salary & Purchased\\\\\n <chr> & <dbl> & <dbl> & <chr>\\\\\n\\hline\n\t France  & 44.00000 & 72000.00 & No \\\\\n\t Spain   & 27.00000 & 48000.00 & Yes\\\\\n\t Germany & 30.00000 & 54000.00 & No \\\\\n\t Spain   & 38.00000 & 61000.00 & No \\\\\n\t Germany & 40.00000 & 63777.78 & Yes\\\\\n\t France  & 35.00000 & 58000.00 & Yes\\\\\n\t Spain   & 38.77778 & 52000.00 & No \\\\\n\t France  & 48.00000 & 79000.00 & Yes\\\\\n\t Germany & 50.00000 & 83000.00 & No \\\\\n\t France  & 37.00000 & 67000.00 & Yes\\\\\n\\end{tabular}\n",
            "text/plain": [
              "   Country Age      Salary   Purchased\n",
              "1  France  44.00000 72000.00 No       \n",
              "2  Spain   27.00000 48000.00 Yes      \n",
              "3  Germany 30.00000 54000.00 No       \n",
              "4  Spain   38.00000 61000.00 No       \n",
              "5  Germany 40.00000 63777.78 Yes      \n",
              "6  France  35.00000 58000.00 Yes      \n",
              "7  Spain   38.77778 52000.00 No       \n",
              "8  France  48.00000 79000.00 Yes      \n",
              "9  Germany 50.00000 83000.00 No       \n",
              "10 France  37.00000 67000.00 Yes      "
            ]
          },
          "metadata": {}
        }
      ]
    },
    {
      "cell_type": "markdown",
      "source": [
        "#**Encoding categorical data**"
      ],
      "metadata": {
        "id": "IbY0pOgPQlpS"
      }
    },
    {
      "cell_type": "code",
      "source": [
        "#factor(x,levels,labels)\n",
        "#x -> a vector of data, usually taking a small number of distinct values.\n",
        "#levels\t-> an optional vector of the unique values (as character strings) that x might have taken.\n",
        "#The default is the unique set of values taken by as.character(x), sorted into increasing order of x.\n",
        "#Note that this set can be specified as smaller than sort(unique(x)).\n",
        "#labels\t-> either an optional character vector of labels for the levels (in the same order as levels after removing those in exclude),\n",
        "#or a character string of length 1. Duplicated values in labels can be used to map different values of x to the same factor level.\n",
        "\n",
        "dataset$Country = factor(dataset$Country,\n",
        "                         levels = c('France','Germany','Spain'),\n",
        "                         labels = c('0','1','2'))\n",
        "\n",
        "dataset$Purchased = factor(dataset$Purchased,\n",
        "                           levels = c('Yes','No'),\n",
        "                           labels = c('1','0'))\n",
        "\n",
        "dataset"
      ],
      "metadata": {
        "colab": {
          "base_uri": "https://localhost:8080/",
          "height": 412
        },
        "id": "eqjweeVMQ1iQ",
        "outputId": "70d2dc9d-5fa9-44f9-8ccf-f753cdd77afb"
      },
      "execution_count": null,
      "outputs": [
        {
          "output_type": "display_data",
          "data": {
            "text/html": [
              "<table class=\"dataframe\">\n",
              "<caption>A data.frame: 10 × 4</caption>\n",
              "<thead>\n",
              "\t<tr><th scope=col>Country</th><th scope=col>Age</th><th scope=col>Salary</th><th scope=col>Purchased</th></tr>\n",
              "\t<tr><th scope=col>&lt;fct&gt;</th><th scope=col>&lt;dbl&gt;</th><th scope=col>&lt;dbl&gt;</th><th scope=col>&lt;fct&gt;</th></tr>\n",
              "</thead>\n",
              "<tbody>\n",
              "\t<tr><td>0</td><td>44.00000</td><td>72000.00</td><td>0</td></tr>\n",
              "\t<tr><td>2</td><td>27.00000</td><td>48000.00</td><td>1</td></tr>\n",
              "\t<tr><td>1</td><td>30.00000</td><td>54000.00</td><td>0</td></tr>\n",
              "\t<tr><td>2</td><td>38.00000</td><td>61000.00</td><td>0</td></tr>\n",
              "\t<tr><td>1</td><td>40.00000</td><td>63777.78</td><td>1</td></tr>\n",
              "\t<tr><td>0</td><td>35.00000</td><td>58000.00</td><td>1</td></tr>\n",
              "\t<tr><td>2</td><td>38.77778</td><td>52000.00</td><td>0</td></tr>\n",
              "\t<tr><td>0</td><td>48.00000</td><td>79000.00</td><td>1</td></tr>\n",
              "\t<tr><td>1</td><td>50.00000</td><td>83000.00</td><td>0</td></tr>\n",
              "\t<tr><td>0</td><td>37.00000</td><td>67000.00</td><td>1</td></tr>\n",
              "</tbody>\n",
              "</table>\n"
            ],
            "text/markdown": "\nA data.frame: 10 × 4\n\n| Country &lt;fct&gt; | Age &lt;dbl&gt; | Salary &lt;dbl&gt; | Purchased &lt;fct&gt; |\n|---|---|---|---|\n| 0 | 44.00000 | 72000.00 | 0 |\n| 2 | 27.00000 | 48000.00 | 1 |\n| 1 | 30.00000 | 54000.00 | 0 |\n| 2 | 38.00000 | 61000.00 | 0 |\n| 1 | 40.00000 | 63777.78 | 1 |\n| 0 | 35.00000 | 58000.00 | 1 |\n| 2 | 38.77778 | 52000.00 | 0 |\n| 0 | 48.00000 | 79000.00 | 1 |\n| 1 | 50.00000 | 83000.00 | 0 |\n| 0 | 37.00000 | 67000.00 | 1 |\n\n",
            "text/latex": "A data.frame: 10 × 4\n\\begin{tabular}{llll}\n Country & Age & Salary & Purchased\\\\\n <fct> & <dbl> & <dbl> & <fct>\\\\\n\\hline\n\t 0 & 44.00000 & 72000.00 & 0\\\\\n\t 2 & 27.00000 & 48000.00 & 1\\\\\n\t 1 & 30.00000 & 54000.00 & 0\\\\\n\t 2 & 38.00000 & 61000.00 & 0\\\\\n\t 1 & 40.00000 & 63777.78 & 1\\\\\n\t 0 & 35.00000 & 58000.00 & 1\\\\\n\t 2 & 38.77778 & 52000.00 & 0\\\\\n\t 0 & 48.00000 & 79000.00 & 1\\\\\n\t 1 & 50.00000 & 83000.00 & 0\\\\\n\t 0 & 37.00000 & 67000.00 & 1\\\\\n\\end{tabular}\n",
            "text/plain": [
              "   Country Age      Salary   Purchased\n",
              "1  0       44.00000 72000.00 0        \n",
              "2  2       27.00000 48000.00 1        \n",
              "3  1       30.00000 54000.00 0        \n",
              "4  2       38.00000 61000.00 0        \n",
              "5  1       40.00000 63777.78 1        \n",
              "6  0       35.00000 58000.00 1        \n",
              "7  2       38.77778 52000.00 0        \n",
              "8  0       48.00000 79000.00 1        \n",
              "9  1       50.00000 83000.00 0        \n",
              "10 0       37.00000 67000.00 1        "
            ]
          },
          "metadata": {}
        }
      ]
    },
    {
      "cell_type": "markdown",
      "source": [
        "#**Splitting data set**\n"
      ],
      "metadata": {
        "id": "v0GJNAaAsQDU"
      }
    },
    {
      "cell_type": "code",
      "source": [
        "# Importing packages\n",
        "install.packages('caTools')\n",
        "library(caTools)\n",
        "\n",
        "# The set.seed() function in R is used to create reproducible results when writing code\n",
        "# that involves creating variables that take on random values.\n",
        "\n",
        "# By using the set.seed() function, you guarantee that the same random values are produced each time you run the code.\n",
        "set.seed(123)\n",
        "\n",
        "# The split function allows dividing data in groups based on factor levels.\n",
        "# split(x,SplitRatio)\n",
        "# x -> data frame\n",
        "# SplitRatio -> true values\n",
        "# we apply split on dependent variable\n",
        "split = sample.split(dataset$Purchased,SplitRatio = 0.8)\n",
        "\n",
        "training_set=subset(dataset,split==TRUE)\n",
        "testing_set = subset(dataset,split==FALSE)\n",
        "\n",
        "training_set\n",
        "testing_set"
      ],
      "metadata": {
        "colab": {
          "base_uri": "https://localhost:8080/",
          "height": 545
        },
        "id": "VCl-maXCshSB",
        "outputId": "f48900cd-ac7d-434e-e16d-8f9c310d3c68"
      },
      "execution_count": null,
      "outputs": [
        {
          "output_type": "stream",
          "name": "stderr",
          "text": [
            "Installing package into ‘/usr/local/lib/R/site-library’\n",
            "(as ‘lib’ is unspecified)\n",
            "\n"
          ]
        },
        {
          "output_type": "display_data",
          "data": {
            "text/html": [
              "<table class=\"dataframe\">\n",
              "<caption>A data.frame: 8 × 4</caption>\n",
              "<thead>\n",
              "\t<tr><th></th><th scope=col>Country</th><th scope=col>Age</th><th scope=col>Salary</th><th scope=col>Purchased</th></tr>\n",
              "\t<tr><th></th><th scope=col>&lt;fct&gt;</th><th scope=col>&lt;dbl&gt;</th><th scope=col>&lt;dbl&gt;</th><th scope=col>&lt;fct&gt;</th></tr>\n",
              "</thead>\n",
              "<tbody>\n",
              "\t<tr><th scope=row>1</th><td>0</td><td>44.00000</td><td>72000.00</td><td>0</td></tr>\n",
              "\t<tr><th scope=row>2</th><td>2</td><td>27.00000</td><td>48000.00</td><td>1</td></tr>\n",
              "\t<tr><th scope=row>3</th><td>1</td><td>30.00000</td><td>54000.00</td><td>0</td></tr>\n",
              "\t<tr><th scope=row>4</th><td>2</td><td>38.00000</td><td>61000.00</td><td>0</td></tr>\n",
              "\t<tr><th scope=row>5</th><td>1</td><td>40.00000</td><td>63777.78</td><td>1</td></tr>\n",
              "\t<tr><th scope=row>7</th><td>2</td><td>38.77778</td><td>52000.00</td><td>0</td></tr>\n",
              "\t<tr><th scope=row>8</th><td>0</td><td>48.00000</td><td>79000.00</td><td>1</td></tr>\n",
              "\t<tr><th scope=row>10</th><td>0</td><td>37.00000</td><td>67000.00</td><td>1</td></tr>\n",
              "</tbody>\n",
              "</table>\n"
            ],
            "text/markdown": "\nA data.frame: 8 × 4\n\n| <!--/--> | Country &lt;fct&gt; | Age &lt;dbl&gt; | Salary &lt;dbl&gt; | Purchased &lt;fct&gt; |\n|---|---|---|---|---|\n| 1 | 0 | 44.00000 | 72000.00 | 0 |\n| 2 | 2 | 27.00000 | 48000.00 | 1 |\n| 3 | 1 | 30.00000 | 54000.00 | 0 |\n| 4 | 2 | 38.00000 | 61000.00 | 0 |\n| 5 | 1 | 40.00000 | 63777.78 | 1 |\n| 7 | 2 | 38.77778 | 52000.00 | 0 |\n| 8 | 0 | 48.00000 | 79000.00 | 1 |\n| 10 | 0 | 37.00000 | 67000.00 | 1 |\n\n",
            "text/latex": "A data.frame: 8 × 4\n\\begin{tabular}{r|llll}\n  & Country & Age & Salary & Purchased\\\\\n  & <fct> & <dbl> & <dbl> & <fct>\\\\\n\\hline\n\t1 & 0 & 44.00000 & 72000.00 & 0\\\\\n\t2 & 2 & 27.00000 & 48000.00 & 1\\\\\n\t3 & 1 & 30.00000 & 54000.00 & 0\\\\\n\t4 & 2 & 38.00000 & 61000.00 & 0\\\\\n\t5 & 1 & 40.00000 & 63777.78 & 1\\\\\n\t7 & 2 & 38.77778 & 52000.00 & 0\\\\\n\t8 & 0 & 48.00000 & 79000.00 & 1\\\\\n\t10 & 0 & 37.00000 & 67000.00 & 1\\\\\n\\end{tabular}\n",
            "text/plain": [
              "   Country Age      Salary   Purchased\n",
              "1  0       44.00000 72000.00 0        \n",
              "2  2       27.00000 48000.00 1        \n",
              "3  1       30.00000 54000.00 0        \n",
              "4  2       38.00000 61000.00 0        \n",
              "5  1       40.00000 63777.78 1        \n",
              "7  2       38.77778 52000.00 0        \n",
              "8  0       48.00000 79000.00 1        \n",
              "10 0       37.00000 67000.00 1        "
            ]
          },
          "metadata": {}
        },
        {
          "output_type": "display_data",
          "data": {
            "text/html": [
              "<table class=\"dataframe\">\n",
              "<caption>A data.frame: 2 × 4</caption>\n",
              "<thead>\n",
              "\t<tr><th></th><th scope=col>Country</th><th scope=col>Age</th><th scope=col>Salary</th><th scope=col>Purchased</th></tr>\n",
              "\t<tr><th></th><th scope=col>&lt;fct&gt;</th><th scope=col>&lt;dbl&gt;</th><th scope=col>&lt;dbl&gt;</th><th scope=col>&lt;fct&gt;</th></tr>\n",
              "</thead>\n",
              "<tbody>\n",
              "\t<tr><th scope=row>6</th><td>0</td><td>35</td><td>58000</td><td>1</td></tr>\n",
              "\t<tr><th scope=row>9</th><td>1</td><td>50</td><td>83000</td><td>0</td></tr>\n",
              "</tbody>\n",
              "</table>\n"
            ],
            "text/markdown": "\nA data.frame: 2 × 4\n\n| <!--/--> | Country &lt;fct&gt; | Age &lt;dbl&gt; | Salary &lt;dbl&gt; | Purchased &lt;fct&gt; |\n|---|---|---|---|---|\n| 6 | 0 | 35 | 58000 | 1 |\n| 9 | 1 | 50 | 83000 | 0 |\n\n",
            "text/latex": "A data.frame: 2 × 4\n\\begin{tabular}{r|llll}\n  & Country & Age & Salary & Purchased\\\\\n  & <fct> & <dbl> & <dbl> & <fct>\\\\\n\\hline\n\t6 & 0 & 35 & 58000 & 1\\\\\n\t9 & 1 & 50 & 83000 & 0\\\\\n\\end{tabular}\n",
            "text/plain": [
              "  Country Age Salary Purchased\n",
              "6 0       35  58000  1        \n",
              "9 1       50  83000  0        "
            ]
          },
          "metadata": {}
        }
      ]
    },
    {
      "cell_type": "markdown",
      "source": [
        "#**Feature Scalling**"
      ],
      "metadata": {
        "id": "hcXPIQVEzqye"
      }
    },
    {
      "cell_type": "code",
      "source": [
        "training_set[,2:3]=scale(training_set[2:3])\n",
        "testing_set[2:3]=scale(testing_set[2:3])\n",
        "\n",
        "training_set\n",
        "testing_set"
      ],
      "metadata": {
        "colab": {
          "base_uri": "https://localhost:8080/",
          "height": 493
        },
        "id": "Fsw89Bo5zul3",
        "outputId": "756e6f92-6888-4663-c2b1-e4896c98eb02"
      },
      "execution_count": null,
      "outputs": [
        {
          "output_type": "display_data",
          "data": {
            "text/html": [
              "<table class=\"dataframe\">\n",
              "<caption>A data.frame: 8 × 4</caption>\n",
              "<thead>\n",
              "\t<tr><th></th><th scope=col>Country</th><th scope=col>Age</th><th scope=col>Salary</th><th scope=col>Purchased</th></tr>\n",
              "\t<tr><th></th><th scope=col>&lt;fct&gt;</th><th scope=col>&lt;dbl&gt;</th><th scope=col>&lt;dbl&gt;</th><th scope=col>&lt;fct&gt;</th></tr>\n",
              "</thead>\n",
              "<tbody>\n",
              "\t<tr><th scope=row>1</th><td>0</td><td> 0.90101716</td><td> 0.9392746</td><td>0</td></tr>\n",
              "\t<tr><th scope=row>2</th><td>2</td><td>-1.58847494</td><td>-1.3371160</td><td>1</td></tr>\n",
              "\t<tr><th scope=row>3</th><td>1</td><td>-1.14915281</td><td>-0.7680183</td><td>0</td></tr>\n",
              "\t<tr><th scope=row>4</th><td>2</td><td> 0.02237289</td><td>-0.1040711</td><td>0</td></tr>\n",
              "\t<tr><th scope=row>5</th><td>1</td><td> 0.31525431</td><td> 0.1594000</td><td>1</td></tr>\n",
              "\t<tr><th scope=row>7</th><td>2</td><td> 0.13627122</td><td>-0.9577176</td><td>0</td></tr>\n",
              "\t<tr><th scope=row>8</th><td>0</td><td> 1.48678000</td><td> 1.6032218</td><td>1</td></tr>\n",
              "\t<tr><th scope=row>10</th><td>0</td><td>-0.12406783</td><td> 0.4650265</td><td>1</td></tr>\n",
              "</tbody>\n",
              "</table>\n"
            ],
            "text/markdown": "\nA data.frame: 8 × 4\n\n| <!--/--> | Country &lt;fct&gt; | Age &lt;dbl&gt; | Salary &lt;dbl&gt; | Purchased &lt;fct&gt; |\n|---|---|---|---|---|\n| 1 | 0 |  0.90101716 |  0.9392746 | 0 |\n| 2 | 2 | -1.58847494 | -1.3371160 | 1 |\n| 3 | 1 | -1.14915281 | -0.7680183 | 0 |\n| 4 | 2 |  0.02237289 | -0.1040711 | 0 |\n| 5 | 1 |  0.31525431 |  0.1594000 | 1 |\n| 7 | 2 |  0.13627122 | -0.9577176 | 0 |\n| 8 | 0 |  1.48678000 |  1.6032218 | 1 |\n| 10 | 0 | -0.12406783 |  0.4650265 | 1 |\n\n",
            "text/latex": "A data.frame: 8 × 4\n\\begin{tabular}{r|llll}\n  & Country & Age & Salary & Purchased\\\\\n  & <fct> & <dbl> & <dbl> & <fct>\\\\\n\\hline\n\t1 & 0 &  0.90101716 &  0.9392746 & 0\\\\\n\t2 & 2 & -1.58847494 & -1.3371160 & 1\\\\\n\t3 & 1 & -1.14915281 & -0.7680183 & 0\\\\\n\t4 & 2 &  0.02237289 & -0.1040711 & 0\\\\\n\t5 & 1 &  0.31525431 &  0.1594000 & 1\\\\\n\t7 & 2 &  0.13627122 & -0.9577176 & 0\\\\\n\t8 & 0 &  1.48678000 &  1.6032218 & 1\\\\\n\t10 & 0 & -0.12406783 &  0.4650265 & 1\\\\\n\\end{tabular}\n",
            "text/plain": [
              "   Country Age         Salary     Purchased\n",
              "1  0        0.90101716  0.9392746 0        \n",
              "2  2       -1.58847494 -1.3371160 1        \n",
              "3  1       -1.14915281 -0.7680183 0        \n",
              "4  2        0.02237289 -0.1040711 0        \n",
              "5  1        0.31525431  0.1594000 1        \n",
              "7  2        0.13627122 -0.9577176 0        \n",
              "8  0        1.48678000  1.6032218 1        \n",
              "10 0       -0.12406783  0.4650265 1        "
            ]
          },
          "metadata": {}
        },
        {
          "output_type": "display_data",
          "data": {
            "text/html": [
              "<table class=\"dataframe\">\n",
              "<caption>A data.frame: 2 × 4</caption>\n",
              "<thead>\n",
              "\t<tr><th></th><th scope=col>Country</th><th scope=col>Age</th><th scope=col>Salary</th><th scope=col>Purchased</th></tr>\n",
              "\t<tr><th></th><th scope=col>&lt;fct&gt;</th><th scope=col>&lt;dbl&gt;</th><th scope=col>&lt;dbl&gt;</th><th scope=col>&lt;fct&gt;</th></tr>\n",
              "</thead>\n",
              "<tbody>\n",
              "\t<tr><th scope=row>6</th><td>0</td><td>-0.7071068</td><td>-0.7071068</td><td>1</td></tr>\n",
              "\t<tr><th scope=row>9</th><td>1</td><td> 0.7071068</td><td> 0.7071068</td><td>0</td></tr>\n",
              "</tbody>\n",
              "</table>\n"
            ],
            "text/markdown": "\nA data.frame: 2 × 4\n\n| <!--/--> | Country &lt;fct&gt; | Age &lt;dbl&gt; | Salary &lt;dbl&gt; | Purchased &lt;fct&gt; |\n|---|---|---|---|---|\n| 6 | 0 | -0.7071068 | -0.7071068 | 1 |\n| 9 | 1 |  0.7071068 |  0.7071068 | 0 |\n\n",
            "text/latex": "A data.frame: 2 × 4\n\\begin{tabular}{r|llll}\n  & Country & Age & Salary & Purchased\\\\\n  & <fct> & <dbl> & <dbl> & <fct>\\\\\n\\hline\n\t6 & 0 & -0.7071068 & -0.7071068 & 1\\\\\n\t9 & 1 &  0.7071068 &  0.7071068 & 0\\\\\n\\end{tabular}\n",
            "text/plain": [
              "  Country Age        Salary     Purchased\n",
              "6 0       -0.7071068 -0.7071068 1        \n",
              "9 1        0.7071068  0.7071068 0        "
            ]
          },
          "metadata": {}
        }
      ]
    }
  ]
}
{
  "nbformat": 4,
  "nbformat_minor": 0,
  "metadata": {
    "colab": {
      "provenance": [],
      "collapsed_sections": [
        "EA8bBiC5r2fj",
        "tkrzYRxKUy7C",
        "Sx9YnMkiu17K",
        "jYXLz2ToxTcz",
        "W4enaivf0a2D"
      ],
      "authorship_tag": "ABX9TyNHi8dwleK93jfJlvZnG4Kn",
      "include_colab_link": true
    },
    "kernelspec": {
      "name": "python3",
      "display_name": "Python 3"
    },
    "language_info": {
      "name": "python"
    }
  },
  "cells": [
    {
      "cell_type": "markdown",
      "metadata": {
        "id": "view-in-github",
        "colab_type": "text"
      },
      "source": [
        "<a href=\"https://colab.research.google.com/github/Mohamed-Willy/ML-Course/blob/PYTHON/ML_2_SimpleLinearRegression.ipynb\" target=\"_parent\"><img src=\"https://colab.research.google.com/assets/colab-badge.svg\" alt=\"Open In Colab\"/></a>"
      ]
    },
    {
      "cell_type": "markdown",
      "source": [
        "# **Regression**\n",
        "<hr>\n",
        "Y = aX + b<br>\n",
        "a: Coefficient<br>\n",
        "b: Constant<br>\n",
        "X: Independent Variable<br>\n",
        "Y: Dependent Variable"
      ],
      "metadata": {
        "id": "EA8bBiC5r2fj"
      }
    },
    {
      "cell_type": "markdown",
      "source": [
        "We have a set of points and try to find the best fiting line.<br>\n",
        "We do this in the following steps:<br>\n",
        "1- Predect any line<br>\n",
        "2- Calculate distance between the points and this line<br>\n",
        "3- Sum the square of those distances<br>\n",
        "4- Find the smallest value that will be our correct line"
      ],
      "metadata": {
        "id": "p_u6nJ-yt3e7"
      }
    },
    {
      "cell_type": "markdown",
      "source": [
        "# **Mounting Drive**"
      ],
      "metadata": {
        "id": "tkrzYRxKUy7C"
      }
    },
    {
      "cell_type": "code",
      "execution_count": 1,
      "metadata": {
        "colab": {
          "base_uri": "https://localhost:8080/"
        },
        "id": "H3RFdTTzTA93",
        "outputId": "1e351e84-d214-4802-ea30-b3ee0ef2e4b8"
      },
      "outputs": [
        {
          "output_type": "stream",
          "name": "stdout",
          "text": [
            "Mounted at /content/drive\n"
          ]
        }
      ],
      "source": [
        "from google.colab import drive\n",
        "drive.mount('/content/drive')"
      ]
    },
    {
      "cell_type": "markdown",
      "source": [
        "# **Preparing Dataset**"
      ],
      "metadata": {
        "id": "Sx9YnMkiu17K"
      }
    },
    {
      "cell_type": "code",
      "source": [
        "# Importing libraries\n",
        "import numpy as np\n",
        "import matplotlib.pyplot as plt\n",
        "import pandas as pd"
      ],
      "metadata": {
        "id": "uRhNDUbwvNjN"
      },
      "execution_count": 2,
      "outputs": []
    },
    {
      "cell_type": "code",
      "source": [
        "# Loading dataset\n",
        "dataset = pd.read_csv('/content/drive/MyDrive/ML A-Z/Part 2 - Regression/Section 4 - Simple Linear Regression/Python/Salary_Data.csv')\n",
        "X = dataset.iloc[:, 0].values\n",
        "Y = dataset.iloc[:, 1].values\n",
        "print(dataset)\n",
        "print(X)\n",
        "print(Y)"
      ],
      "metadata": {
        "colab": {
          "base_uri": "https://localhost:8080/"
        },
        "id": "ID_fhjLkvbbk",
        "outputId": "946d108b-7e39-464d-da2a-76bc1df2a8cc"
      },
      "execution_count": 3,
      "outputs": [
        {
          "output_type": "stream",
          "name": "stdout",
          "text": [
            "    YearsExperience    Salary\n",
            "0               1.1   39343.0\n",
            "1               1.3   46205.0\n",
            "2               1.5   37731.0\n",
            "3               2.0   43525.0\n",
            "4               2.2   39891.0\n",
            "5               2.9   56642.0\n",
            "6               3.0   60150.0\n",
            "7               3.2   54445.0\n",
            "8               3.2   64445.0\n",
            "9               3.7   57189.0\n",
            "10              3.9   63218.0\n",
            "11              4.0   55794.0\n",
            "12              4.0   56957.0\n",
            "13              4.1   57081.0\n",
            "14              4.5   61111.0\n",
            "15              4.9   67938.0\n",
            "16              5.1   66029.0\n",
            "17              5.3   83088.0\n",
            "18              5.9   81363.0\n",
            "19              6.0   93940.0\n",
            "20              6.8   91738.0\n",
            "21              7.1   98273.0\n",
            "22              7.9  101302.0\n",
            "23              8.2  113812.0\n",
            "24              8.7  109431.0\n",
            "25              9.0  105582.0\n",
            "26              9.5  116969.0\n",
            "27              9.6  112635.0\n",
            "28             10.3  122391.0\n",
            "29             10.5  121872.0\n",
            "[ 1.1  1.3  1.5  2.   2.2  2.9  3.   3.2  3.2  3.7  3.9  4.   4.   4.1\n",
            "  4.5  4.9  5.1  5.3  5.9  6.   6.8  7.1  7.9  8.2  8.7  9.   9.5  9.6\n",
            " 10.3 10.5]\n",
            "[ 39343.  46205.  37731.  43525.  39891.  56642.  60150.  54445.  64445.\n",
            "  57189.  63218.  55794.  56957.  57081.  61111.  67938.  66029.  83088.\n",
            "  81363.  93940.  91738.  98273. 101302. 113812. 109431. 105582. 116969.\n",
            " 112635. 122391. 121872.]\n"
          ]
        }
      ]
    },
    {
      "cell_type": "code",
      "source": [
        "# Train Test Split\n",
        "from sklearn.model_selection import train_test_split\n",
        "X_train, X_test, Y_train, Y_test = train_test_split(X, Y, test_size = 1/3)\n",
        "print(\"X train:\")\n",
        "print(X_train)\n",
        "print(\"X test:\")\n",
        "print(X_test)\n",
        "print(\"Y train:\")\n",
        "print(Y_train)\n",
        "print(\"Y test:\")\n",
        "print(Y_test)"
      ],
      "metadata": {
        "colab": {
          "base_uri": "https://localhost:8080/"
        },
        "id": "myuAtvhjwO0C",
        "outputId": "964a84fb-1321-44b3-8aeb-fa1b3124f738"
      },
      "execution_count": 4,
      "outputs": [
        {
          "output_type": "stream",
          "name": "stdout",
          "text": [
            "X train:\n",
            "[ 2.   5.1  5.9  4.   7.1  9.   8.7  3.7  6.  10.3  1.5  1.1  7.9  4.5\n",
            "  3.9  4.   4.9  9.6  4.1  9.5]\n",
            "X test:\n",
            "[10.5  1.3  3.2  5.3  2.9  8.2  6.8  2.2  3.2  3. ]\n",
            "Y train:\n",
            "[ 43525.  66029.  81363.  55794.  98273. 105582. 109431.  57189.  93940.\n",
            " 122391.  37731.  39343. 101302.  61111.  63218.  56957.  67938. 112635.\n",
            "  57081. 116969.]\n",
            "Y test:\n",
            "[121872.  46205.  54445.  83088.  56642. 113812.  91738.  39891.  64445.\n",
            "  60150.]\n"
          ]
        }
      ]
    },
    {
      "cell_type": "markdown",
      "source": [
        "# **Fitting Simple Linear Regression on Train set**"
      ],
      "metadata": {
        "id": "jYXLz2ToxTcz"
      }
    },
    {
      "cell_type": "code",
      "source": [
        "# Importing Library\n",
        "from sklearn.linear_model import LinearRegression"
      ],
      "metadata": {
        "id": "5HROwReixuBU"
      },
      "execution_count": 5,
      "outputs": []
    },
    {
      "cell_type": "code",
      "source": [
        "# Fitting Model\n",
        "regressor = LinearRegression()\n",
        "# Make X & Y a 2D array\n",
        "X_train = X_train.reshape(-1, 1)\n",
        "Y_train = Y_train.reshape(-1, 1)\n",
        "regressor.fit(X_train, Y_train)\n",
        "print(X_train)\n",
        "print(Y_train)"
      ],
      "metadata": {
        "colab": {
          "base_uri": "https://localhost:8080/"
        },
        "id": "gk-1fWwWx360",
        "outputId": "9d0b8362-81bc-4171-fa3b-6368ef5573b0"
      },
      "execution_count": 6,
      "outputs": [
        {
          "output_type": "stream",
          "name": "stdout",
          "text": [
            "[[ 2. ]\n",
            " [ 5.1]\n",
            " [ 5.9]\n",
            " [ 4. ]\n",
            " [ 7.1]\n",
            " [ 9. ]\n",
            " [ 8.7]\n",
            " [ 3.7]\n",
            " [ 6. ]\n",
            " [10.3]\n",
            " [ 1.5]\n",
            " [ 1.1]\n",
            " [ 7.9]\n",
            " [ 4.5]\n",
            " [ 3.9]\n",
            " [ 4. ]\n",
            " [ 4.9]\n",
            " [ 9.6]\n",
            " [ 4.1]\n",
            " [ 9.5]]\n",
            "[[ 43525.]\n",
            " [ 66029.]\n",
            " [ 81363.]\n",
            " [ 55794.]\n",
            " [ 98273.]\n",
            " [105582.]\n",
            " [109431.]\n",
            " [ 57189.]\n",
            " [ 93940.]\n",
            " [122391.]\n",
            " [ 37731.]\n",
            " [ 39343.]\n",
            " [101302.]\n",
            " [ 61111.]\n",
            " [ 63218.]\n",
            " [ 56957.]\n",
            " [ 67938.]\n",
            " [112635.]\n",
            " [ 57081.]\n",
            " [116969.]]\n"
          ]
        }
      ]
    },
    {
      "cell_type": "markdown",
      "source": [
        "# **Testing The Model**"
      ],
      "metadata": {
        "id": "W4enaivf0a2D"
      }
    },
    {
      "cell_type": "code",
      "source": [
        "# Predicting the Test set results\n",
        "X_test = X_test.reshape(-1, 1)\n",
        "Y_pred = regressor.predict(X_test)\n",
        "print(Y_pred)"
      ],
      "metadata": {
        "colab": {
          "base_uri": "https://localhost:8080/"
        },
        "id": "w58t7f_e0hgq",
        "outputId": "9c76c019-7c42-429c-911c-e5cc33f9c80c"
      },
      "execution_count": 7,
      "outputs": [
        {
          "output_type": "stream",
          "name": "stdout",
          "text": [
            "[[124729.44420131]\n",
            " [ 35115.87081611]\n",
            " [ 53623.02184132]\n",
            " [ 74078.29402707]\n",
            " [ 50700.84010049]\n",
            " [102326.05085501]\n",
            " [ 88689.20273118]\n",
            " [ 43882.41603858]\n",
            " [ 53623.02184132]\n",
            " [ 51674.90068077]]\n"
          ]
        }
      ]
    },
    {
      "cell_type": "code",
      "source": [
        "# Visualising the Training set results\n",
        "plt.scatter(X_train, Y_train, color = 'red')\n",
        "plt.plot(X_train, regressor.predict(X_train), color = 'blue')\n",
        "plt.title('Salary vs Experience (Training set)')\n",
        "plt.xlabel('Years of Experience')\n",
        "plt.ylabel('Salary')\n",
        "plt.show()"
      ],
      "metadata": {
        "colab": {
          "base_uri": "https://localhost:8080/",
          "height": 0
        },
        "id": "4j67lqWv0xpx",
        "outputId": "71adffd2-327c-4ec7-9aff-0e7e6c3b9921"
      },
      "execution_count": 8,
      "outputs": [
        {
          "output_type": "display_data",
          "data": {
            "text/plain": [
              "<Figure size 640x480 with 1 Axes>"
            ],
            "image/png": "[encoded data removed]"
          },
          "metadata": {}
        }
      ]
    },
    {
      "cell_type": "code",
      "source": [
        "# Visualising the Test set results\n",
        "plt.scatter(X_test, Y_test, color = 'red')\n",
        "plt.plot(X_train, regressor.predict(X_train), color = 'blue')\n",
        "plt.title('Salary vs Experience (Test set)')\n",
        "plt.xlabel('Years of Experience')\n",
        "plt.ylabel('Salary')\n",
        "plt.show()"
      ],
      "metadata": {
        "colab": {
          "base_uri": "https://localhost:8080/",
          "height": 0
        },
        "id": "EARvddAy1-bO",
        "outputId": "85e4c885-bab2-45fd-f71c-4a08c730fbc2"
      },
      "execution_count": 9,
      "outputs": [
        {
          "output_type": "display_data",
          "data": {
            "text/plain": [
              "<Figure size 640x480 with 1 Axes>"
            ],
            "image/png": "[encoded data removed]"
          },
          "metadata": {}
        }
      ]
    }
  ]
}
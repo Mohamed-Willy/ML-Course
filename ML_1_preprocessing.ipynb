{
  "nbformat": 4,
  "nbformat_minor": 0,
  "metadata": {
    "colab": {
      "provenance": [],
      "collapsed_sections": [
        "tkrzYRxKUy7C",
        "tW5gg0FKVbx4",
        "tM4zreZ-X7fo",
        "ddlBgD_TdzWb",
        "h74d29ZgiQsu",
        "1jhFfqtZj5Hd"
      ],
      "authorship_tag": "ABX9TyMn0iCiACH4KazAYwQMCgRk",
      "include_colab_link": true
    },
    "kernelspec": {
      "name": "python3",
      "display_name": "Python 3"
    },
    "language_info": {
      "name": "python"
    }
  },
  "cells": [
    {
      "cell_type": "markdown",
      "metadata": {
        "id": "view-in-github",
        "colab_type": "text"
      },
      "source": [
        "<a href=\"https://colab.research.google.com/github/Mohamed-Willy/ML-Course/blob/PYTHON/ML_1_preprocessing.ipynb\" target=\"_parent\"><img src=\"https://colab.research.google.com/assets/colab-badge.svg\" alt=\"Open In Colab\"/></a>"
      ]
    },
    {
      "cell_type": "markdown",
      "source": [
        "# **Mounting Drive**"
      ],
      "metadata": {
        "id": "tkrzYRxKUy7C"
      }
    },
    {
      "cell_type": "code",
      "execution_count": null,
      "metadata": {
        "colab": {
          "base_uri": "https://localhost:8080/"
        },
        "id": "H3RFdTTzTA93",
        "outputId": "79fd4438-1d50-4a30-ad02-083708140f51"
      },
      "outputs": [
        {
          "output_type": "stream",
          "name": "stdout",
          "text": [
            "Drive already mounted at /content/drive; to attempt to forcibly remount, call drive.mount(\"/content/drive\", force_remount=True).\n"
          ]
        }
      ],
      "source": [
        "from google.colab import drive\n",
        "drive.mount('/content/drive')"
      ]
    },
    {
      "cell_type": "markdown",
      "source": [
        "# **Loading Data**"
      ],
      "metadata": {
        "id": "tW5gg0FKVbx4"
      }
    },
    {
      "cell_type": "code",
      "source": [
        "# Importing the libraries\n",
        "import numpy as np\n",
        "import matplotlib.pyplot as plt\n",
        "import pandas as pd"
      ],
      "metadata": {
        "id": "inBOmz-qVfn_"
      },
      "execution_count": null,
      "outputs": []
    },
    {
      "cell_type": "code",
      "source": [
        "# Importing the dataset\n",
        "dataset = pd.read_csv('/content/drive/MyDrive/ML A-Z/Part 1 - Data Preprocessing/Data Preprocessing/Python/Data.csv')\n",
        "X = dataset.iloc[:, :-1].values # Take all columns except the last one for x\n",
        "Y = dataset.iloc[:, -1].values # Take last column for y\n",
        "print(X)\n",
        "print(Y)"
      ],
      "metadata": {
        "colab": {
          "base_uri": "https://localhost:8080/"
        },
        "id": "UV9qdXgyVh4e",
        "outputId": "b36d2a06-09ac-42a3-c544-93748802b412"
      },
      "execution_count": null,
      "outputs": [
        {
          "output_type": "stream",
          "name": "stdout",
          "text": [
            "[['France' 44.0 72000.0]\n",
            " ['Spain' 27.0 48000.0]\n",
            " ['Germany' 30.0 54000.0]\n",
            " ['Spain' 38.0 61000.0]\n",
            " ['Germany' 40.0 nan]\n",
            " ['France' 35.0 58000.0]\n",
            " ['Spain' nan 52000.0]\n",
            " ['France' 48.0 79000.0]\n",
            " ['Germany' 50.0 83000.0]\n",
            " ['France' 37.0 67000.0]]\n",
            "['No' 'Yes' 'No' 'No' 'Yes' 'Yes' 'No' 'Yes' 'No' 'Yes']\n"
          ]
        }
      ]
    },
    {
      "cell_type": "markdown",
      "source": [
        "# **Missing Data**"
      ],
      "metadata": {
        "id": "tM4zreZ-X7fo"
      }
    },
    {
      "cell_type": "code",
      "source": [
        "# Importing the libraries\n",
        "from sklearn.impute import SimpleImputer\n",
        "'''\n",
        "  strategy:\n",
        "    mean\n",
        "    median\n",
        "    most_frequent\n",
        "'''\n",
        "imputer = SimpleImputer(missing_values = np.nan, strategy = 'median')"
      ],
      "metadata": {
        "id": "2CvX-zzLXzzI"
      },
      "execution_count": null,
      "outputs": []
    },
    {
      "cell_type": "code",
      "source": [
        "# Fiting the model\n",
        "imputer.fit(X[:, 1:3])\n",
        "X[:, 1:3] = imputer.transform(X[:, 1:3])\n",
        "print(X)"
      ],
      "metadata": {
        "colab": {
          "base_uri": "https://localhost:8080/"
        },
        "id": "CXyITU-TZiEi",
        "outputId": "f33997a0-4c62-40cb-e0bd-dfe143a52d6c"
      },
      "execution_count": null,
      "outputs": [
        {
          "output_type": "stream",
          "name": "stdout",
          "text": [
            "[['France' 44.0 72000.0]\n",
            " ['Spain' 27.0 48000.0]\n",
            " ['Germany' 30.0 54000.0]\n",
            " ['Spain' 38.0 61000.0]\n",
            " ['Germany' 40.0 61000.0]\n",
            " ['France' 35.0 58000.0]\n",
            " ['Spain' 38.0 52000.0]\n",
            " ['France' 48.0 79000.0]\n",
            " ['Germany' 50.0 83000.0]\n",
            " ['France' 37.0 67000.0]]\n"
          ]
        }
      ]
    },
    {
      "cell_type": "markdown",
      "source": [
        "# **Data Encoding**"
      ],
      "metadata": {
        "id": "ddlBgD_TdzWb"
      }
    },
    {
      "cell_type": "code",
      "source": [
        "# Importing the libraries\n",
        "from sklearn.compose import ColumnTransformer\n",
        "from sklearn.preprocessing import LabelEncoder, OneHotEncoder\n",
        "label_encoder_X = LabelEncoder()\n",
        "'''\n",
        "  reminder:\n",
        "    passthrough -> leaves the non encoded columns\n",
        "    drop -> removes non selected columns\n",
        "    transformers:\n",
        "      list of tuples -> (name, transformer, columns)\n",
        "'''\n",
        "one_hot_encoder_X = ColumnTransformer(transformers=[('encoder', OneHotEncoder(), [0])], remainder='passthrough')"
      ],
      "metadata": {
        "id": "iDTYzfSJd64y"
      },
      "execution_count": null,
      "outputs": []
    },
    {
      "cell_type": "code",
      "source": [
        "# Appling LabelEncoder model (Not best due to appling value)\n",
        "X[:, 0] = label_encoder_X.fit_transform(X[:, 0])\n",
        "print(X)"
      ],
      "metadata": {
        "colab": {
          "base_uri": "https://localhost:8080/"
        },
        "id": "aoaeUDZ9eQEE",
        "outputId": "93452cb0-d7ad-44a8-e0c4-9f6a98850664"
      },
      "execution_count": null,
      "outputs": [
        {
          "output_type": "stream",
          "name": "stdout",
          "text": [
            "[[0 44.0 72000.0]\n",
            " [2 27.0 48000.0]\n",
            " [1 30.0 54000.0]\n",
            " [2 38.0 61000.0]\n",
            " [1 40.0 61000.0]\n",
            " [0 35.0 58000.0]\n",
            " [2 38.0 52000.0]\n",
            " [0 48.0 79000.0]\n",
            " [1 50.0 83000.0]\n",
            " [0 37.0 67000.0]]\n"
          ]
        }
      ]
    },
    {
      "cell_type": "code",
      "source": [
        "# Appling OneHotEncoder model\n",
        "X = np.array(one_hot_encoder_X.fit_transform(X))\n",
        "print(X)"
      ],
      "metadata": {
        "colab": {
          "base_uri": "https://localhost:8080/"
        },
        "id": "hrYmAQ1pfhup",
        "outputId": "bf2b12c2-7114-4007-a7f5-30d49458b9a5"
      },
      "execution_count": null,
      "outputs": [
        {
          "output_type": "stream",
          "name": "stdout",
          "text": [
            "[[1.0 0.0 0.0 44.0 72000.0]\n",
            " [0.0 0.0 1.0 27.0 48000.0]\n",
            " [0.0 1.0 0.0 30.0 54000.0]\n",
            " [0.0 0.0 1.0 38.0 61000.0]\n",
            " [0.0 1.0 0.0 40.0 61000.0]\n",
            " [1.0 0.0 0.0 35.0 58000.0]\n",
            " [0.0 0.0 1.0 38.0 52000.0]\n",
            " [1.0 0.0 0.0 48.0 79000.0]\n",
            " [0.0 1.0 0.0 50.0 83000.0]\n",
            " [1.0 0.0 0.0 37.0 67000.0]]\n"
          ]
        }
      ]
    },
    {
      "cell_type": "code",
      "source": [
        "# Appling on Y\n",
        "label_encoder_Y = LabelEncoder()\n",
        "Y = label_encoder_Y.fit_transform(Y)\n",
        "print(Y)"
      ],
      "metadata": {
        "colab": {
          "base_uri": "https://localhost:8080/"
        },
        "id": "HMjYvPflhxEV",
        "outputId": "6e488a7a-3af4-485b-871c-22a5923ee11a"
      },
      "execution_count": null,
      "outputs": [
        {
          "output_type": "stream",
          "name": "stdout",
          "text": [
            "[0 1 0 0 1 1 0 1 0 1]\n"
          ]
        }
      ]
    },
    {
      "cell_type": "markdown",
      "source": [
        "# **Train Test Split**"
      ],
      "metadata": {
        "id": "h74d29ZgiQsu"
      }
    },
    {
      "cell_type": "code",
      "source": [
        "#Importing libraries\n",
        "from sklearn.model_selection import train_test_split"
      ],
      "metadata": {
        "id": "CxX6ACBgiWsk"
      },
      "execution_count": null,
      "outputs": []
    },
    {
      "cell_type": "code",
      "source": [
        "# Appling model\n",
        "X_train, X_test, y_train, y_test = train_test_split(X, Y, test_size = 0.2)\n",
        "print(\"X train:\")\n",
        "print(X_train)\n",
        "print(\"X test:\")\n",
        "print(X_test)\n",
        "print(\"Y train:\")\n",
        "print(y_train)\n",
        "print(\"Y test:\")\n",
        "print(y_test)"
      ],
      "metadata": {
        "colab": {
          "base_uri": "https://localhost:8080/"
        },
        "id": "w07Mjynzii29",
        "outputId": "93f048ae-ae7b-4324-cf98-3e8edf1c7de3"
      },
      "execution_count": null,
      "outputs": [
        {
          "output_type": "stream",
          "name": "stdout",
          "text": [
            "X train:\n",
            "[[0.0 0.0 1.0 38.0 61000.0]\n",
            " [0.0 1.0 0.0 40.0 61000.0]\n",
            " [0.0 0.0 1.0 38.0 52000.0]\n",
            " [1.0 0.0 0.0 35.0 58000.0]\n",
            " [0.0 0.0 1.0 27.0 48000.0]\n",
            " [0.0 1.0 0.0 50.0 83000.0]\n",
            " [1.0 0.0 0.0 44.0 72000.0]\n",
            " [1.0 0.0 0.0 48.0 79000.0]]\n",
            "X test:\n",
            "[[0.0 1.0 0.0 30.0 54000.0]\n",
            " [1.0 0.0 0.0 37.0 67000.0]]\n",
            "Y train:\n",
            "[0 1 0 1 1 0 0 1]\n",
            "Y test:\n",
            "[0 1]\n"
          ]
        }
      ]
    },
    {
      "cell_type": "markdown",
      "source": [
        "# **Feature scaling**"
      ],
      "metadata": {
        "id": "1jhFfqtZj5Hd"
      }
    },
    {
      "cell_type": "code",
      "source": [
        "# Importing Libraries\n",
        "from sklearn.preprocessing import StandardScaler\n",
        "sc = StandardScaler()"
      ],
      "metadata": {
        "id": "XwbAjn5ykAhF"
      },
      "execution_count": null,
      "outputs": []
    },
    {
      "cell_type": "code",
      "source": [
        "# Appling Model (Scaling them to a certain range)\n",
        "X_train[:, 3:] = sc.fit_transform(X_train[:, 3:])\n",
        "X_test[:, 3:] = sc.transform(X_test[:, 3:])\n",
        "print(\"X train:\")\n",
        "print(X_train)\n",
        "print(\"X test:\")\n",
        "print(X_test)"
      ],
      "metadata": {
        "colab": {
          "base_uri": "https://localhost:8080/"
        },
        "id": "qa0nvrirkJti",
        "outputId": "fdb58043-b9b3-42c9-ce54-45d04d470da9"
      },
      "execution_count": null,
      "outputs": [
        {
          "output_type": "stream",
          "name": "stdout",
          "text": [
            "X train:\n",
            "[[0.0 0.0 1.0 -0.28942984211696865 -0.2767210428728637]\n",
            " [0.0 1.0 0.0 -8.326672684688674e-17 -0.2767210428728637]\n",
            " [0.0 0.0 1.0 -0.28942984211696865 -1.0430254692900245]\n",
            " [1.0 0.0 0.0 -0.7235746052924217 -0.5321558516785839]\n",
            " [0.0 0.0 1.0 -1.8812939737602963 -1.3836052143643183]\n",
            " [0.0 1.0 0.0 1.4471492105848434 1.5964675550357517]\n",
            " [1.0 0.0 0.0 0.5788596842339373 0.6598732560814441]\n",
            " [1.0 0.0 0.0 1.1577193684678746 1.255887809961458]]\n",
            "X test:\n",
            "[[0.0 1.0 0.0 -1.4471492105848434 -0.8727355967528776]\n",
            " [1.0 0.0 0.0 -0.43414476317545303 0.23414857473857686]]\n"
          ]
        }
      ]
    }
  ]
}